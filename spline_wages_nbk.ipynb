{
 "nbformat": 4,
 "nbformat_minor": 2,
 "metadata": {
  "language_info": {
   "name": "python",
   "codemirror_mode": {
    "name": "ipython",
    "version": 3
   },
   "version": "3.7.4-final"
  },
  "orig_nbformat": 2,
  "file_extension": ".py",
  "mimetype": "text/x-python",
  "name": "python",
  "npconvert_exporter": "python",
  "pygments_lexer": "ipython3",
  "version": 3,
  "kernelspec": {
   "name": "python37464bitbasecondaa9069fa1388146bfad5958a2942c6df7",
   "display_name": "Python 3.7.4 64-bit ('base': conda)"
  }
 },
 "cells": [
  {
   "cell_type": "markdown",
   "execution_count": null,
   "metadata": {},
   "outputs": [],
   "source": [
    "This notebook is to practice developing and learn more about spline regression models from the tutorial found at, https://www.analyticsvidhya.com/blog/2018/03/introduction-regression-splines-python-codes/"
   ]
  },
  {
   "cell_type": "markdown",
   "execution_count": null,
   "metadata": {},
   "outputs": [],
   "source": [
    "# Modules & Settings"
   ]
  },
  {
   "cell_type": "code",
   "execution_count": 4,
   "metadata": {},
   "outputs": [],
   "source": [
    "import pandas as pd\n",
    "import numpy as np\n",
    "import statsmodels.api as sm\n",
    "import matplotlib.pyplot as plt\n",
    "%matplotlib inline"
   ]
  },
  {
   "cell_type": "code",
   "execution_count": 5,
   "metadata": {},
   "outputs": [],
   "source": [
    "# Read Dataset\n",
    "df = pd.read_csv('Wage.csv')"
   ]
  },
  {
   "cell_type": "code",
   "execution_count": 6,
   "metadata": {},
   "outputs": [
    {
     "data": {
      "text/html": "<div>\n<style scoped>\n    .dataframe tbody tr th:only-of-type {\n        vertical-align: middle;\n    }\n\n    .dataframe tbody tr th {\n        vertical-align: top;\n    }\n\n    .dataframe thead th {\n        text-align: right;\n    }\n</style>\n<table border=\"1\" class=\"dataframe\">\n  <thead>\n    <tr style=\"text-align: right;\">\n      <th></th>\n      <th>ID</th>\n      <th>year</th>\n      <th>age</th>\n      <th>sex</th>\n      <th>maritl</th>\n      <th>race</th>\n      <th>education</th>\n      <th>region</th>\n      <th>jobclass</th>\n      <th>health</th>\n      <th>health_ins</th>\n      <th>logwage</th>\n      <th>wage</th>\n    </tr>\n  </thead>\n  <tbody>\n    <tr>\n      <td>0</td>\n      <td>231655</td>\n      <td>2006</td>\n      <td>18</td>\n      <td>1. Male</td>\n      <td>1. Never Married</td>\n      <td>1. White</td>\n      <td>1. &lt; HS Grad</td>\n      <td>2. Middle Atlantic</td>\n      <td>1. Industrial</td>\n      <td>1. &lt;=Good</td>\n      <td>2. No</td>\n      <td>4.318063</td>\n      <td>75.043154</td>\n    </tr>\n    <tr>\n      <td>1</td>\n      <td>86582</td>\n      <td>2004</td>\n      <td>24</td>\n      <td>1. Male</td>\n      <td>1. Never Married</td>\n      <td>1. White</td>\n      <td>4. College Grad</td>\n      <td>2. Middle Atlantic</td>\n      <td>2. Information</td>\n      <td>2. &gt;=Very Good</td>\n      <td>2. No</td>\n      <td>4.255273</td>\n      <td>70.476020</td>\n    </tr>\n    <tr>\n      <td>2</td>\n      <td>161300</td>\n      <td>2003</td>\n      <td>45</td>\n      <td>1. Male</td>\n      <td>2. Married</td>\n      <td>1. White</td>\n      <td>3. Some College</td>\n      <td>2. Middle Atlantic</td>\n      <td>1. Industrial</td>\n      <td>1. &lt;=Good</td>\n      <td>1. Yes</td>\n      <td>4.875061</td>\n      <td>130.982177</td>\n    </tr>\n    <tr>\n      <td>3</td>\n      <td>155159</td>\n      <td>2003</td>\n      <td>43</td>\n      <td>1. Male</td>\n      <td>2. Married</td>\n      <td>3. Asian</td>\n      <td>4. College Grad</td>\n      <td>2. Middle Atlantic</td>\n      <td>2. Information</td>\n      <td>2. &gt;=Very Good</td>\n      <td>1. Yes</td>\n      <td>5.041393</td>\n      <td>154.685293</td>\n    </tr>\n    <tr>\n      <td>4</td>\n      <td>11443</td>\n      <td>2005</td>\n      <td>50</td>\n      <td>1. Male</td>\n      <td>4. Divorced</td>\n      <td>1. White</td>\n      <td>2. HS Grad</td>\n      <td>2. Middle Atlantic</td>\n      <td>2. Information</td>\n      <td>1. &lt;=Good</td>\n      <td>1. Yes</td>\n      <td>4.318063</td>\n      <td>75.043154</td>\n    </tr>\n  </tbody>\n</table>\n</div>",
      "text/plain": "       ID  year  age      sex            maritl      race        education  \\\n0  231655  2006   18  1. Male  1. Never Married  1. White     1. < HS Grad   \n1   86582  2004   24  1. Male  1. Never Married  1. White  4. College Grad   \n2  161300  2003   45  1. Male        2. Married  1. White  3. Some College   \n3  155159  2003   43  1. Male        2. Married  3. Asian  4. College Grad   \n4   11443  2005   50  1. Male       4. Divorced  1. White       2. HS Grad   \n\n               region        jobclass          health health_ins   logwage  \\\n0  2. Middle Atlantic   1. Industrial       1. <=Good      2. No  4.318063   \n1  2. Middle Atlantic  2. Information  2. >=Very Good      2. No  4.255273   \n2  2. Middle Atlantic   1. Industrial       1. <=Good     1. Yes  4.875061   \n3  2. Middle Atlantic  2. Information  2. >=Very Good     1. Yes  5.041393   \n4  2. Middle Atlantic  2. Information       1. <=Good     1. Yes  4.318063   \n\n         wage  \n0   75.043154  \n1   70.476020  \n2  130.982177  \n3  154.685293  \n4   75.043154  "
     },
     "execution_count": 6,
     "metadata": {},
     "output_type": "execute_result"
    }
   ],
   "source": [
    "df.head()"
   ]
  },
  {
   "cell_type": "code",
   "execution_count": 7,
   "metadata": {},
   "outputs": [],
   "source": [
    "data_x = df['age']\n",
    "data_y = df['wage']\n",
    "\n"
   ]
  },
  {
   "cell_type": "code",
   "execution_count": null,
   "metadata": {},
   "outputs": [],
   "source": []
  },
  {
   "cell_type": "code",
   "execution_count": null,
   "metadata": {},
   "outputs": [],
   "source": []
  },
  {
   "cell_type": "code",
   "execution_count": null,
   "metadata": {},
   "outputs": [],
   "source": []
  },
  {
   "cell_type": "code",
   "execution_count": null,
   "metadata": {},
   "outputs": [],
   "source": []
  },
  {
   "cell_type": "code",
   "execution_count": null,
   "metadata": {},
   "outputs": [],
   "source": []
  },
  {
   "cell_type": "code",
   "execution_count": null,
   "metadata": {},
   "outputs": [],
   "source": []
  }
 ]
}